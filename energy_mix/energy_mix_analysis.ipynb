{
 "cells": [
  {
   "cell_type": "code",
   "execution_count": 1,
   "metadata": {},
   "outputs": [
    {
     "name": "stdout",
     "output_type": "stream",
     "text": [
      "(734, 12)\n"
     ]
    },
    {
     "data": {
      "text/html": [
       "<div>\n",
       "<style scoped>\n",
       "    .dataframe tbody tr th:only-of-type {\n",
       "        vertical-align: middle;\n",
       "    }\n",
       "\n",
       "    .dataframe tbody tr th {\n",
       "        vertical-align: top;\n",
       "    }\n",
       "\n",
       "    .dataframe thead th {\n",
       "        text-align: right;\n",
       "    }\n",
       "</style>\n",
       "<table border=\"1\" class=\"dataframe\">\n",
       "  <thead>\n",
       "    <tr style=\"text-align: right;\">\n",
       "      <th></th>\n",
       "      <th>Unnamed: 0</th>\n",
       "      <th>BIOMASS</th>\n",
       "      <th>CCGT</th>\n",
       "      <th>COAL</th>\n",
       "      <th>NPSHYD</th>\n",
       "      <th>NUCLEAR</th>\n",
       "      <th>OCGT</th>\n",
       "      <th>OIL</th>\n",
       "      <th>OTHER</th>\n",
       "      <th>PS</th>\n",
       "      <th>WIND</th>\n",
       "      <th>INT</th>\n",
       "    </tr>\n",
       "  </thead>\n",
       "  <tbody>\n",
       "    <tr>\n",
       "      <th>0</th>\n",
       "      <td>0</td>\n",
       "      <td>2788</td>\n",
       "      <td>5869</td>\n",
       "      <td>353</td>\n",
       "      <td>373</td>\n",
       "      <td>3679</td>\n",
       "      <td>4</td>\n",
       "      <td>0</td>\n",
       "      <td>234</td>\n",
       "      <td>-322</td>\n",
       "      <td>13262</td>\n",
       "      <td>2645.0</td>\n",
       "    </tr>\n",
       "    <tr>\n",
       "      <th>1</th>\n",
       "      <td>1</td>\n",
       "      <td>2357</td>\n",
       "      <td>9517</td>\n",
       "      <td>447</td>\n",
       "      <td>397</td>\n",
       "      <td>3527</td>\n",
       "      <td>4</td>\n",
       "      <td>0</td>\n",
       "      <td>261</td>\n",
       "      <td>-16</td>\n",
       "      <td>9471</td>\n",
       "      <td>3488.0</td>\n",
       "    </tr>\n",
       "    <tr>\n",
       "      <th>2</th>\n",
       "      <td>2</td>\n",
       "      <td>2861</td>\n",
       "      <td>11972</td>\n",
       "      <td>839</td>\n",
       "      <td>523</td>\n",
       "      <td>3493</td>\n",
       "      <td>22</td>\n",
       "      <td>0</td>\n",
       "      <td>310</td>\n",
       "      <td>-139</td>\n",
       "      <td>9797</td>\n",
       "      <td>763.0</td>\n",
       "    </tr>\n",
       "    <tr>\n",
       "      <th>3</th>\n",
       "      <td>3</td>\n",
       "      <td>3023</td>\n",
       "      <td>18943</td>\n",
       "      <td>1412</td>\n",
       "      <td>587</td>\n",
       "      <td>3052</td>\n",
       "      <td>147</td>\n",
       "      <td>0</td>\n",
       "      <td>515</td>\n",
       "      <td>143</td>\n",
       "      <td>1270</td>\n",
       "      <td>4071.0</td>\n",
       "    </tr>\n",
       "    <tr>\n",
       "      <th>4</th>\n",
       "      <td>4</td>\n",
       "      <td>2783</td>\n",
       "      <td>18337</td>\n",
       "      <td>1369</td>\n",
       "      <td>558</td>\n",
       "      <td>3055</td>\n",
       "      <td>24</td>\n",
       "      <td>0</td>\n",
       "      <td>459</td>\n",
       "      <td>27</td>\n",
       "      <td>2153</td>\n",
       "      <td>2700.0</td>\n",
       "    </tr>\n",
       "  </tbody>\n",
       "</table>\n",
       "</div>"
      ],
      "text/plain": [
       "   Unnamed: 0  BIOMASS   CCGT  COAL  NPSHYD  NUCLEAR  OCGT  OIL  OTHER   PS  \\\n",
       "0           0     2788   5869   353     373     3679     4    0    234 -322   \n",
       "1           1     2357   9517   447     397     3527     4    0    261  -16   \n",
       "2           2     2861  11972   839     523     3493    22    0    310 -139   \n",
       "3           3     3023  18943  1412     587     3052   147    0    515  143   \n",
       "4           4     2783  18337  1369     558     3055    24    0    459   27   \n",
       "\n",
       "    WIND     INT  \n",
       "0  13262  2645.0  \n",
       "1   9471  3488.0  \n",
       "2   9797   763.0  \n",
       "3   1270  4071.0  \n",
       "4   2153  2700.0  "
      ]
     },
     "execution_count": 1,
     "metadata": {},
     "output_type": "execute_result"
    }
   ],
   "source": [
    "import pandas as pd \n",
    "import numpy\n",
    "import matplotlib.pyplot as plt\n",
    "\n",
    "df = pd.read_csv(\"./data.csv\")\n",
    "print(df.shape)\n",
    "df.head()"
   ]
  },
  {
   "cell_type": "code",
   "execution_count": 2,
   "metadata": {},
   "outputs": [
    {
     "data": {
      "text/plain": [
       "Index(['BIOMASS', 'CCGT', 'COAL', 'NPSHYD', 'NUCLEAR', 'OCGT', 'OIL', 'OTHER',\n",
       "       'PS', 'WIND', 'INT'],\n",
       "      dtype='object')"
      ]
     },
     "execution_count": 2,
     "metadata": {},
     "output_type": "execute_result"
    }
   ],
   "source": [
    "df.drop(\"Unnamed: 0\",axis=1, inplace=True)\n",
    "df.columns"
   ]
  },
  {
   "cell_type": "code",
   "execution_count": null,
   "metadata": {},
   "outputs": [],
   "source": [
    "columns = df.columns\n",
    "only_int = columns[3:13]\n",
    "only_renew = columns[[0,-1,-2,13]]\n",
    "only_fos  = columns[[2,-4, -5]]\n",
    "only_mid = columns[[1, -3, -6]]\n",
    "\n",
    "\n",
    "gen_summed = df[columns].sum().values\n",
    "int_summed = df[only_int].sum().values\n",
    "\n",
    "columns_inters_joined = list(columns[:3]) + [\"CONNECTIONS\"] + list(columns[13:])\n",
    "gen_summed_inters_joined = list(gen_summed[:3]) + [int(int_summed.sum)] + list(gen_summed[13:])\n",
    "\n",
    "\n",
    "categories_summed = [df[only_int].sum().values.sum(), df[only_renew].sum().values.sum(), df[only_fos].sum().values.sum(), df[only_mid].sum().values.sum()]"
   ]
  },
  {
   "cell_type": "code",
   "execution_count": null,
   "metadata": {},
   "outputs": [
    {
     "data": {
      "text/plain": [
       "['BIOMASS',\n",
       " 'CCGT',\n",
       " 'COAL',\n",
       " 'CONNECTIONS',\n",
       " 'NPSHYD',\n",
       " 'NUCLEAR',\n",
       " 'OCGT',\n",
       " 'OIL',\n",
       " 'OTHER',\n",
       " 'PS',\n",
       " 'WIND']"
      ]
     },
     "execution_count": 37,
     "metadata": {},
     "output_type": "execute_result"
    }
   ],
   "source": [
    "gen"
   ]
  }
 ],
 "metadata": {
  "kernelspec": {
   "display_name": "env",
   "language": "python",
   "name": "python3"
  },
  "language_info": {
   "codemirror_mode": {
    "name": "ipython",
    "version": 3
   },
   "file_extension": ".py",
   "mimetype": "text/x-python",
   "name": "python",
   "nbconvert_exporter": "python",
   "pygments_lexer": "ipython3",
   "version": "3.12.3"
  }
 },
 "nbformat": 4,
 "nbformat_minor": 2
}
